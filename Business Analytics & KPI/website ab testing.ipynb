{
 "cells": [
  {
   "cell_type": "code",
   "execution_count": 31,
   "id": "e1053195-63e9-4136-82f4-9af4c98f360c",
   "metadata": {},
   "outputs": [],
   "source": [
    "# import  libraries\n",
    "import pandas as pd\n",
    "import numpy as np\n",
    "from statsmodels.stats.proportion import proportions_ztest\n",
    "import matplotlib.pyplot as plt\n",
    "import seaborn as sns\n",
    "\n",
    "# Set plot style \n",
    "sns.set(style=\"whitegrid\")"
   ]
  },
  {
   "cell_type": "code",
   "execution_count": 3,
   "id": "c82c7242-0287-4ed0-befe-2f37dead28c5",
   "metadata": {},
   "outputs": [
    {
     "name": "stdout",
     "output_type": "stream",
     "text": [
      "Data loaded successfully!\n",
      "   user_id                   timestamp      group landing_page  converted\n",
      "0   851104  2017-01-21 22:11:48.556739    control     old_page          0\n",
      "1   804228  2017-01-12 08:01:45.159739    control     old_page          0\n",
      "2   661590  2017-01-11 16:55:06.154213  treatment     new_page          0\n",
      "3   853541  2017-01-08 18:28:03.143765  treatment     new_page          0\n",
      "4   864975  2017-01-21 01:52:26.210827    control     old_page          1\n"
     ]
    }
   ],
   "source": [
    "file_path = 'data_files/ab_data.csv'\n",
    "\n",
    "# Load the dataset\n",
    "df = pd.read_csv(file_path)\n",
    "\n",
    "print(\"Data loaded successfully!\")\n",
    "print(df.head())"
   ]
  },
  {
   "cell_type": "code",
   "execution_count": 5,
   "id": "d0b9819e-859a-42c7-8fe3-87c299acc0a5",
   "metadata": {},
   "outputs": [
    {
     "name": "stdout",
     "output_type": "stream",
     "text": [
      "\n",
      "Dataset Information:\n",
      "<class 'pandas.core.frame.DataFrame'>\n",
      "RangeIndex: 294478 entries, 0 to 294477\n",
      "Data columns (total 5 columns):\n",
      " #   Column        Non-Null Count   Dtype \n",
      "---  ------        --------------   ----- \n",
      " 0   user_id       294478 non-null  int64 \n",
      " 1   timestamp     294478 non-null  object\n",
      " 2   group         294478 non-null  object\n",
      " 3   landing_page  294478 non-null  object\n",
      " 4   converted     294478 non-null  int64 \n",
      "dtypes: int64(2), object(3)\n",
      "memory usage: 11.2+ MB\n"
     ]
    }
   ],
   "source": [
    "# info about dataset\n",
    "print(\"\\nDataset Information:\")\n",
    "df.info()"
   ]
  },
  {
   "cell_type": "code",
   "execution_count": 7,
   "id": "cb4eb330-1966-47e9-996b-8d40213963ba",
   "metadata": {},
   "outputs": [
    {
     "name": "stdout",
     "output_type": "stream",
     "text": [
      "\n",
      "Number of duplicate user entries: 3894\n"
     ]
    }
   ],
   "source": [
    "# Check for any users who might be in both the control and treatment group\n",
    "duplicate_users = df['user_id'].duplicated().sum()\n",
    "print(f\"\\nNumber of duplicate user entries: {duplicate_users}\")\n"
   ]
  },
  {
   "cell_type": "code",
   "execution_count": 9,
   "id": "a73fdccb-6cc4-47ed-960c-b321cab2ce66",
   "metadata": {},
   "outputs": [
    {
     "name": "stdout",
     "output_type": "stream",
     "text": [
      "Number of unique users: 290584\n"
     ]
    }
   ],
   "source": [
    "# Let's see how many unique users we have\n",
    "print(f\"Number of unique users: {df['user_id'].nunique()}\")\n",
    "\n"
   ]
  },
  {
   "cell_type": "code",
   "execution_count": 15,
   "id": "8295f83f-8590-49f2-8b00-946919cfa651",
   "metadata": {},
   "outputs": [
    {
     "name": "stdout",
     "output_type": "stream",
     "text": [
      "\n",
      "Number of mismatched rows to remove: 3893\n"
     ]
    }
   ],
   "source": [
    "# Remove users who are in the 'treatment' group but saw the 'old_page', and vice-versa.\n",
    "# These records are not useful for the test.\n",
    "mismatched_rows = df[((df['group'] == 'treatment') & (df['landing_page'] == 'old_page')) | ((df['group'] == 'control') & (df['landing_page'] == 'new_page'))]\n",
    "print(f\"\\nNumber of mismatched rows to remove: {len(mismatched_rows)}\")\n",
    "\n"
   ]
  },
  {
   "cell_type": "code",
   "execution_count": 17,
   "id": "a0278370-8eb4-459f-9def-71b75da21414",
   "metadata": {},
   "outputs": [
    {
     "name": "stdout",
     "output_type": "stream",
     "text": [
      "Number of duplicate user_ids after cleaning mismatches: 1\n"
     ]
    }
   ],
   "source": [
    "# Remove the mismatched rows\n",
    "df_cleaned = df.drop(mismatched_rows.index)\n",
    "\n",
    "# Another check: Ensure each user ID is now unique after cleaning\n",
    "print(f\"Number of duplicate user_ids after cleaning mismatches: {df_cleaned['user_id'].duplicated().sum()}\")\n"
   ]
  },
  {
   "cell_type": "code",
   "execution_count": 19,
   "id": "fcad7b30-077f-423f-896d-0f463bcf3202",
   "metadata": {},
   "outputs": [
    {
     "name": "stdout",
     "output_type": "stream",
     "text": [
      "\n",
      "Final cleaned dataset contains 290584 unique user sessions.\n"
     ]
    }
   ],
   "source": [
    "\n",
    "# Remove the remaining duplicates\n",
    "df_cleaned = df_cleaned.drop_duplicates(subset='user_id', keep='first')\n",
    "\n",
    "print(f\"\\nFinal cleaned dataset contains {df_cleaned.shape[0]} unique user sessions.\")"
   ]
  },
  {
   "cell_type": "code",
   "execution_count": 21,
   "id": "2afda2d6-79f1-4400-9f74-24d2ba4d33cb",
   "metadata": {},
   "outputs": [],
   "source": [
    "# Separate  data into control and treatment groups\n",
    "control_group = df_cleaned[df_cleaned['group'] == 'control']\n",
    "treatment_group = df_cleaned[df_cleaned['group'] == 'treatment']\n",
    "\n"
   ]
  },
  {
   "cell_type": "code",
   "execution_count": 23,
   "id": "813899ce-1e73-4477-a7f1-3fb0bd5f8740",
   "metadata": {},
   "outputs": [
    {
     "name": "stdout",
     "output_type": "stream",
     "text": [
      "Control Group (Old Page) Conversion Rate: 12.0386%\n",
      "Treatment Group (New Page) Conversion Rate: 11.8808%\n"
     ]
    }
   ],
   "source": [
    "# Calculate conversion rates\n",
    "control_conversion_rate = control_group['converted'].mean()\n",
    "treatment_conversion_rate = treatment_group['converted'].mean()\n",
    "\n",
    "print(f\"Control Group (Old Page) Conversion Rate: {control_conversion_rate:.4%}\")\n",
    "print(f\"Treatment Group (New Page) Conversion Rate: {treatment_conversion_rate:.4%}\")"
   ]
  },
  {
   "cell_type": "code",
   "execution_count": 25,
   "id": "cf872585-2dc7-4c53-a450-1d337e77a7ad",
   "metadata": {},
   "outputs": [],
   "source": [
    "# Get the number of conversions for each group\n",
    "control_conversions = control_group['converted'].sum()\n",
    "treatment_conversions = treatment_group['converted'].sum()\n",
    "\n"
   ]
  },
  {
   "cell_type": "code",
   "execution_count": 27,
   "id": "6d7c47d9-142f-4e52-8567-dcfe833352fd",
   "metadata": {},
   "outputs": [],
   "source": [
    "# Get the total number of users in each group\n",
    "n_control = len(control_group)\n",
    "n_treatment = len(treatment_group)\n",
    "\n",
    "# Combine these into arrays for the test\n",
    "count = np.array([treatment_conversions, control_conversions])\n",
    "nobs = np.array([n_treatment, n_control])\n"
   ]
  },
  {
   "cell_type": "code",
   "execution_count": 33,
   "id": "75714a47-c7cf-49b6-afe9-8c2920f1a1e4",
   "metadata": {},
   "outputs": [
    {
     "name": "stdout",
     "output_type": "stream",
     "text": [
      "Z-statistic: -1.3109\n",
      "P-value: 0.9051\n",
      "\n",
      "Result: Fail to reject the null hypothesis.\n",
      "Conclusion: We do not have enough evidence to say the new page is better than the old page.\n"
     ]
    }
   ],
   "source": [
    "\n",
    "# Perform the Z-test\n",
    "# 'alternative=\"larger\"' tests the hypothesis that the first group's proportion is larger than the second's.\n",
    "z_stat, p_value = proportions_ztest(count, nobs, alternative='larger')\n",
    "\n",
    "print(f\"Z-statistic: {z_stat:.4f}\")\n",
    "print(f\"P-value: {p_value:.4f}\")\n",
    "\n",
    "# Set our significance level (alpha)\n",
    "alpha = 0.05\n",
    "\n",
    "# Interpret the result\n",
    "if p_value < alpha:\n",
    "    print(\"\\nResult: Reject the null hypothesis.\")\n",
    "    print(\"Conclusion: The new page has a statistically significant higher conversion rate.\")\n",
    "else:\n",
    "    print(\"\\nResult: Fail to reject the null hypothesis.\")\n",
    "    print(\"Conclusion: We do not have enough evidence to say the new page is better than the old page.\")"
   ]
  },
  {
   "cell_type": "markdown",
   "id": "44e40595-2687-4353-be9e-9d8df1da9a3f",
   "metadata": {},
   "source": [
    "***The result of this project was definitive: the new webpage design failed. The statistical analysis yielded a high p-value (0.91), meaning we could not prove that the new page was any better than the old one. This result prevented the company from making a useless and potentially costly change, demonstrating the value of data-driven decision-making over intuition.***"
   ]
  },
  {
   "cell_type": "code",
   "execution_count": null,
   "id": "2cbf6f29-e76e-4628-9b16-286b0fd2e583",
   "metadata": {},
   "outputs": [],
   "source": []
  }
 ],
 "metadata": {
  "kernelspec": {
   "display_name": "Python [conda env:base] *",
   "language": "python",
   "name": "conda-base-py"
  },
  "language_info": {
   "codemirror_mode": {
    "name": "ipython",
    "version": 3
   },
   "file_extension": ".py",
   "mimetype": "text/x-python",
   "name": "python",
   "nbconvert_exporter": "python",
   "pygments_lexer": "ipython3",
   "version": "3.12.7"
  }
 },
 "nbformat": 4,
 "nbformat_minor": 5
}
