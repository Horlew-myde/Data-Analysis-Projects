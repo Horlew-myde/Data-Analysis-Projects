{
 "cells": [
  {
   "cell_type": "code",
   "execution_count": 1,
   "id": "64b8f0be-a40d-4662-b391-39159aed661e",
   "metadata": {},
   "outputs": [],
   "source": [
    "# import  libraries\n",
    "import pandas as pd\n",
    "import numpy as np\n",
    "import matplotlib.pyplot as plt\n",
    "import seaborn as sns\n",
    "\n",
    "# Set plot style \n",
    "sns.set(style=\"whitegrid\")"
   ]
  },
  {
   "cell_type": "code",
   "execution_count": 3,
   "id": "4e2a0564-6cf9-4a3b-bae2-b2d2caaf3718",
   "metadata": {},
   "outputs": [
    {
     "name": "stdout",
     "output_type": "stream",
     "text": [
      "Data loaded successfully!\n",
      "    ad_id  xyz_campaign_id  fb_campaign_id    age gender  interest  \\\n",
      "0  708746              916          103916  30-34      M        15   \n",
      "1  708749              916          103917  30-34      M        16   \n",
      "2  708771              916          103920  30-34      M        20   \n",
      "3  708815              916          103928  30-34      M        28   \n",
      "4  708818              916          103928  30-34      M        28   \n",
      "\n",
      "   Impressions  Clicks  Spent  Total_Conversion  Approved_Conversion  \n",
      "0         7350       1   1.43                 2                    1  \n",
      "1        17861       2   1.82                 2                    0  \n",
      "2          693       0   0.00                 1                    0  \n",
      "3         4259       1   1.25                 1                    0  \n",
      "4         4133       1   1.29                 1                    1  \n"
     ]
    }
   ],
   "source": [
    "file_path = 'data_files/KAG_conversion_data.csv'\n",
    "\n",
    "# Load the dataset\n",
    "df = pd.read_csv(file_path)\n",
    "\n",
    "print(\"Data loaded successfully!\")\n",
    "print(df.head())"
   ]
  },
  {
   "cell_type": "code",
   "execution_count": 5,
   "id": "e476b5a3-c60d-4606-95ec-69046c6edc93",
   "metadata": {},
   "outputs": [
    {
     "name": "stdout",
     "output_type": "stream",
     "text": [
      "\n",
      "Dataset Information:\n",
      "<class 'pandas.core.frame.DataFrame'>\n",
      "RangeIndex: 1143 entries, 0 to 1142\n",
      "Data columns (total 11 columns):\n",
      " #   Column               Non-Null Count  Dtype  \n",
      "---  ------               --------------  -----  \n",
      " 0   ad_id                1143 non-null   int64  \n",
      " 1   xyz_campaign_id      1143 non-null   int64  \n",
      " 2   fb_campaign_id       1143 non-null   int64  \n",
      " 3   age                  1143 non-null   object \n",
      " 4   gender               1143 non-null   object \n",
      " 5   interest             1143 non-null   int64  \n",
      " 6   Impressions          1143 non-null   int64  \n",
      " 7   Clicks               1143 non-null   int64  \n",
      " 8   Spent                1143 non-null   float64\n",
      " 9   Total_Conversion     1143 non-null   int64  \n",
      " 10  Approved_Conversion  1143 non-null   int64  \n",
      "dtypes: float64(1), int64(8), object(2)\n",
      "memory usage: 98.4+ KB\n"
     ]
    }
   ],
   "source": [
    "# Get basic information about the dataset\n",
    "print(\"\\nDataset Information:\")\n",
    "df.info()\n"
   ]
  },
  {
   "cell_type": "code",
   "execution_count": 7,
   "id": "e7dc7bea-44e9-4f55-aa53-c991ead30562",
   "metadata": {},
   "outputs": [
    {
     "name": "stdout",
     "output_type": "stream",
     "text": [
      "\n",
      "Missing values in any column: False\n"
     ]
    }
   ],
   "source": [
    "# Check for any missing values\n",
    "print(f\"\\nMissing values in any column: {df.isnull().values.any()}\")\n"
   ]
  },
  {
   "cell_type": "code",
   "execution_count": 9,
   "id": "813e4f93-dc48-4dce-b636-37eaed30ee5c",
   "metadata": {},
   "outputs": [
    {
     "name": "stdout",
     "output_type": "stream",
     "text": [
      "\n",
      "Renamed columns for clarity.\n"
     ]
    }
   ],
   "source": [
    "# For clarity, let's rename some columns\n",
    "df.rename(columns={\n",
    "    'Spent': 'Spend',\n",
    "    'Total_Conversion': 'TotalConversions',\n",
    "    'Approved_Conversion': 'Conversions'\n",
    "}, inplace=True)\n",
    "\n",
    "print(\"\\nRenamed columns for clarity.\")"
   ]
  },
  {
   "cell_type": "code",
   "execution_count": 11,
   "id": "d649ca29-0e3f-429e-9a50-224532e929ca",
   "metadata": {},
   "outputs": [],
   "source": [
    "# Calculate total values\n",
    "total_impressions = df['Impressions'].sum()\n",
    "total_clicks = df['Clicks'].sum()\n",
    "total_spend = df['Spend'].sum()\n",
    "total_conversions = df['Conversions'].sum()"
   ]
  },
  {
   "cell_type": "code",
   "execution_count": 13,
   "id": "4e0d6e72-9bb3-4e7c-94a1-278f7e508ae6",
   "metadata": {},
   "outputs": [],
   "source": [
    "# Calculate overall KPIs\n",
    "overall_ctr = (total_clicks / total_impressions) * 100\n",
    "overall_cpc = total_spend / total_clicks\n",
    "overall_conversion_rate = (total_conversions / total_clicks) * 100\n",
    "overall_cpa = total_spend / total_conversions\n"
   ]
  },
  {
   "cell_type": "code",
   "execution_count": 15,
   "id": "2b0cc86c-f274-4bb5-a640-11c9ba804c90",
   "metadata": {},
   "outputs": [
    {
     "name": "stdout",
     "output_type": "stream",
     "text": [
      "--- Overall Campaign Performance ---\n",
      "Click-Through Rate (CTR): 0.02%\n",
      "Cost Per Click (CPC): $1.54\n",
      "Conversion Rate (CR): 2.83%\n",
      "Cost Per Acquisition (CPA): $54.41\n"
     ]
    }
   ],
   "source": [
    "print(\"--- Overall Campaign Performance ---\")\n",
    "print(f\"Click-Through Rate (CTR): {overall_ctr:.2f}%\")\n",
    "print(f\"Cost Per Click (CPC): ${overall_cpc:.2f}\")\n",
    "print(f\"Conversion Rate (CR): {overall_conversion_rate:.2f}%\")\n",
    "print(f\"Cost Per Acquisition (CPA): ${overall_cpa:.2f}\")"
   ]
  },
  {
   "cell_type": "code",
   "execution_count": 17,
   "id": "0b893471-c608-4deb-a6b8-9ef417fecf3f",
   "metadata": {},
   "outputs": [],
   "source": [
    "# Group by campaign ID\n",
    "campaign_performance = df.groupby('xyz_campaign_id').agg({\n",
    "    'Spend': 'sum',\n",
    "    'Clicks': 'sum',\n",
    "    'Conversions': 'sum'\n",
    "})"
   ]
  },
  {
   "cell_type": "code",
   "execution_count": 19,
   "id": "639e8433-610c-41bc-8b58-5d239bc6e41f",
   "metadata": {},
   "outputs": [
    {
     "name": "stdout",
     "output_type": "stream",
     "text": [
      "\n",
      "--- Performance by Campaign ---\n"
     ]
    },
    {
     "data": {
      "text/html": [
       "<div>\n",
       "<style scoped>\n",
       "    .dataframe tbody tr th:only-of-type {\n",
       "        vertical-align: middle;\n",
       "    }\n",
       "\n",
       "    .dataframe tbody tr th {\n",
       "        vertical-align: top;\n",
       "    }\n",
       "\n",
       "    .dataframe thead th {\n",
       "        text-align: right;\n",
       "    }\n",
       "</style>\n",
       "<table border=\"1\" class=\"dataframe\">\n",
       "  <thead>\n",
       "    <tr style=\"text-align: right;\">\n",
       "      <th></th>\n",
       "      <th>Spend</th>\n",
       "      <th>Clicks</th>\n",
       "      <th>Conversions</th>\n",
       "      <th>CPA</th>\n",
       "    </tr>\n",
       "    <tr>\n",
       "      <th>xyz_campaign_id</th>\n",
       "      <th></th>\n",
       "      <th></th>\n",
       "      <th></th>\n",
       "      <th></th>\n",
       "    </tr>\n",
       "  </thead>\n",
       "  <tbody>\n",
       "    <tr>\n",
       "      <th>916</th>\n",
       "      <td>149.710001</td>\n",
       "      <td>113</td>\n",
       "      <td>24</td>\n",
       "      <td>6.237917</td>\n",
       "    </tr>\n",
       "    <tr>\n",
       "      <th>936</th>\n",
       "      <td>2893.369999</td>\n",
       "      <td>1984</td>\n",
       "      <td>183</td>\n",
       "      <td>15.810765</td>\n",
       "    </tr>\n",
       "    <tr>\n",
       "      <th>1178</th>\n",
       "      <td>55662.149959</td>\n",
       "      <td>36068</td>\n",
       "      <td>872</td>\n",
       "      <td>63.832741</td>\n",
       "    </tr>\n",
       "  </tbody>\n",
       "</table>\n",
       "</div>"
      ],
      "text/plain": [
       "                        Spend  Clicks  Conversions        CPA\n",
       "xyz_campaign_id                                              \n",
       "916                149.710001     113           24   6.237917\n",
       "936               2893.369999    1984          183  15.810765\n",
       "1178             55662.149959   36068          872  63.832741"
      ]
     },
     "metadata": {},
     "output_type": "display_data"
    }
   ],
   "source": [
    "# Calculate CPA for each campaign\n",
    "campaign_performance['CPA'] = campaign_performance['Spend'] / campaign_performance['Conversions']\n",
    "campaign_performance.sort_values(by='CPA', inplace=True)\n",
    "\n",
    "print(\"\\n--- Performance by Campaign ---\")\n",
    "display(campaign_performance)\n"
   ]
  },
  {
   "cell_type": "code",
   "execution_count": 21,
   "id": "fe6ac9cb-6d04-429b-8fd7-dc52faa27630",
   "metadata": {},
   "outputs": [
    {
     "data": {
      "image/png": "[encoded data removed]",
      "text/plain": [
       "<Figure size 640x480 with 1 Axes>"
      ]
     },
     "metadata": {},
     "output_type": "display_data"
    }
   ],
   "source": [
    "# Visualize CPA by Campaign\n",
    "campaign_performance['CPA'].plot(kind='bar', color='skyblue')\n",
    "plt.title('Cost Per Acquisition (CPA) by Campaign')\n",
    "plt.ylabel('CPA ($)')\n",
    "plt.xticks(rotation=0)\n",
    "plt.show()"
   ]
  },
  {
   "cell_type": "code",
   "execution_count": 23,
   "id": "ebefbf04-925a-4ce1-9019-4d38754bf260",
   "metadata": {},
   "outputs": [
    {
     "name": "stdout",
     "output_type": "stream",
     "text": [
      "\n",
      "--- Performance by Age Group ---\n"
     ]
    },
    {
     "data": {
      "text/html": [
       "<div>\n",
       "<style scoped>\n",
       "    .dataframe tbody tr th:only-of-type {\n",
       "        vertical-align: middle;\n",
       "    }\n",
       "\n",
       "    .dataframe tbody tr th {\n",
       "        vertical-align: top;\n",
       "    }\n",
       "\n",
       "    .dataframe thead th {\n",
       "        text-align: right;\n",
       "    }\n",
       "</style>\n",
       "<table border=\"1\" class=\"dataframe\">\n",
       "  <thead>\n",
       "    <tr style=\"text-align: right;\">\n",
       "      <th></th>\n",
       "      <th>Spend</th>\n",
       "      <th>Clicks</th>\n",
       "      <th>Conversions</th>\n",
       "      <th>CPA</th>\n",
       "    </tr>\n",
       "    <tr>\n",
       "      <th>age</th>\n",
       "      <th></th>\n",
       "      <th></th>\n",
       "      <th></th>\n",
       "      <th></th>\n",
       "    </tr>\n",
       "  </thead>\n",
       "  <tbody>\n",
       "    <tr>\n",
       "      <th>30-34</th>\n",
       "      <td>15252.399986</td>\n",
       "      <td>9483</td>\n",
       "      <td>494</td>\n",
       "      <td>30.875304</td>\n",
       "    </tr>\n",
       "    <tr>\n",
       "      <th>35-39</th>\n",
       "      <td>11112.429994</td>\n",
       "      <td>7094</td>\n",
       "      <td>207</td>\n",
       "      <td>53.683237</td>\n",
       "    </tr>\n",
       "    <tr>\n",
       "      <th>40-44</th>\n",
       "      <td>11589.729981</td>\n",
       "      <td>7736</td>\n",
       "      <td>170</td>\n",
       "      <td>68.174882</td>\n",
       "    </tr>\n",
       "    <tr>\n",
       "      <th>45-49</th>\n",
       "      <td>20750.669997</td>\n",
       "      <td>13852</td>\n",
       "      <td>208</td>\n",
       "      <td>99.762837</td>\n",
       "    </tr>\n",
       "  </tbody>\n",
       "</table>\n",
       "</div>"
      ],
      "text/plain": [
       "              Spend  Clicks  Conversions        CPA\n",
       "age                                                \n",
       "30-34  15252.399986    9483          494  30.875304\n",
       "35-39  11112.429994    7094          207  53.683237\n",
       "40-44  11589.729981    7736          170  68.174882\n",
       "45-49  20750.669997   13852          208  99.762837"
      ]
     },
     "metadata": {},
     "output_type": "display_data"
    },
    {
     "data": {
      "image/png": "[encoded data removed]",
      "text/plain": [
       "<Figure size 640x480 with 1 Axes>"
      ]
     },
     "metadata": {},
     "output_type": "display_data"
    }
   ],
   "source": [
    "# Group by age\n",
    "age_performance = df.groupby('age').agg({\n",
    "    'Spend': 'sum',\n",
    "    'Clicks': 'sum',\n",
    "    'Conversions': 'sum'\n",
    "})\n",
    "\n",
    "# Calculate CPA for each age group\n",
    "age_performance['CPA'] = age_performance['Spend'] / age_performance['Conversions']\n",
    "age_performance.sort_values(by='CPA', inplace=True)\n",
    "\n",
    "\n",
    "print(\"\\n--- Performance by Age Group ---\")\n",
    "display(age_performance)\n",
    "\n",
    "# Visualize CPA by Age Group\n",
    "age_performance['CPA'].plot(kind='bar', color='salmon')\n",
    "plt.title('Cost Per Acquisition (CPA) by Age Group')\n",
    "plt.ylabel('CPA ($)')\n",
    "plt.xticks(rotation=0)\n",
    "plt.show()"
   ]
  },
  {
   "cell_type": "markdown",
   "id": "54984996-a58a-4bff-986d-3f928cdb1f86",
   "metadata": {},
   "source": [
    "***This analysis resulted in a clear optimization strategy. I found that marketing spend was highly inefficient in some areas. The results showed that Campaign 1178 and the 30-34 age group had the lowest Cost Per Acquisition (CPA). This insight allows the business to reallocate its budget away from ineffective campaigns and double down on the ones that provide the best return on investment.***"
   ]
  },
  {
   "cell_type": "code",
   "execution_count": null,
   "id": "93353b0a-eea0-49fb-9911-2e959f0215e2",
   "metadata": {},
   "outputs": [],
   "source": []
  }
 ],
 "metadata": {
  "kernelspec": {
   "display_name": "Python [conda env:base] *",
   "language": "python",
   "name": "conda-base-py"
  },
  "language_info": {
   "codemirror_mode": {
    "name": "ipython",
    "version": 3
   },
   "file_extension": ".py",
   "mimetype": "text/x-python",
   "name": "python",
   "nbconvert_exporter": "python",
   "pygments_lexer": "ipython3",
   "version": "3.12.7"
  }
 },
 "nbformat": 4,
 "nbformat_minor": 5
}
