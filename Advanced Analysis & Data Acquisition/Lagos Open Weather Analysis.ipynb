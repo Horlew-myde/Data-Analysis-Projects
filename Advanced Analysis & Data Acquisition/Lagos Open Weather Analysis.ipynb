{
 "cells": [
  {
   "cell_type": "code",
   "execution_count": 40,
   "id": "cef23044-e21d-49b0-95a8-1c0e42c4b1d2",
   "metadata": {},
   "outputs": [],
   "source": [
    "# Install the required libraries\n",
    "# !pip install requests pandas matplotlib seaborn"
   ]
  },
  {
   "cell_type": "code",
   "execution_count": 42,
   "id": "f7b837a8-edc8-46de-9b20-5d01f27b3b12",
   "metadata": {},
   "outputs": [],
   "source": [
    "# Import the libraries\n",
    "import requests\n",
    "import pandas as pd\n",
    "import matplotlib.pyplot as plt\n",
    "import seaborn as sns\n",
    "import os"
   ]
  },
  {
   "cell_type": "code",
   "execution_count": 44,
   "id": "7bd4af22-fb7e-4c7c-b845-76f919b395e7",
   "metadata": {},
   "outputs": [],
   "source": [
    "def get_weather(city, api_key):\n",
    "    \"\"\"Fetches and processes weather data for a given city from OpenWeatherMap.\"\"\"\n",
    "    # The base URL for the current weather data API\n",
    "    base_url = \"http://api.openweathermap.org/data/2.5/weather\"\n",
    "    \n",
    "    # Parameters for the API request\n",
    "    params = {\n",
    "        'q': city,\n",
    "        'appid': api_key,\n",
    "        'units': 'metric'  # Use 'imperial' for Fahrenheit\n",
    "    }\n",
    "    \n",
    "    try:\n",
    "        response = requests.get(base_url, params=params)\n",
    "        # Raise an exception for bad status codes (4xx or 5xx)\n",
    "        response.raise_for_status()\n",
    "        \n",
    "        # Parse the JSON response\n",
    "        data = response.json()\n",
    "        \n",
    "        # Extract the relevant weather details\n",
    "        weather_info = {\n",
    "            'City': data['name'],\n",
    "            'Country': data['sys']['country'],\n",
    "            'Temperature (°C)': data['main']['temp'],\n",
    "            'Feels Like (°C)': data['main']['feels_like'],\n",
    "            'Humidity (%)': data['main']['humidity'],\n",
    "            'Description': data['weather'][0]['description'].title()\n",
    "        }\n",
    "        return weather_info\n",
    "        \n",
    "    except requests.exceptions.HTTPError as http_err:\n",
    "        if response.status_code == 404:\n",
    "            print(f\"Error: City not found - {city}\")\n",
    "        elif response.status_code == 401:\n",
    "            print(\"Error: Invalid API key. Please check your key and try again.\")\n",
    "        else:\n",
    "            print(f\"HTTP error occurred: {http_err}\")\n",
    "    except Exception as err:\n",
    "        print(f\"An error occurred: {err}\")\n",
    "        \n",
    "    return None"
   ]
  },
  {
   "cell_type": "code",
   "execution_count": 46,
   "id": "94c85eed-9604-44e7-a298-fc6a0a8d9b7f",
   "metadata": {},
   "outputs": [
    {
     "name": "stdout",
     "output_type": "stream",
     "text": [
      "Fetching weather for Lagos...\n",
      "Fetching weather for Tokyo...\n",
      "Fetching weather for New York...\n",
      "Fetching weather for London...\n",
      "Fetching weather for Sydney...\n",
      "Fetching weather for Dubai...\n",
      "\n",
      "Current Weather Conditions:\n"
     ]
    },
    {
     "data": {
      "text/html": [
       "<div>\n",
       "<style scoped>\n",
       "    .dataframe tbody tr th:only-of-type {\n",
       "        vertical-align: middle;\n",
       "    }\n",
       "\n",
       "    .dataframe tbody tr th {\n",
       "        vertical-align: top;\n",
       "    }\n",
       "\n",
       "    .dataframe thead th {\n",
       "        text-align: right;\n",
       "    }\n",
       "</style>\n",
       "<table border=\"1\" class=\"dataframe\">\n",
       "  <thead>\n",
       "    <tr style=\"text-align: right;\">\n",
       "      <th></th>\n",
       "      <th>City</th>\n",
       "      <th>Country</th>\n",
       "      <th>Temperature (°C)</th>\n",
       "      <th>Feels Like (°C)</th>\n",
       "      <th>Humidity (%)</th>\n",
       "      <th>Description</th>\n",
       "    </tr>\n",
       "  </thead>\n",
       "  <tbody>\n",
       "    <tr>\n",
       "      <th>0</th>\n",
       "      <td>Lagos</td>\n",
       "      <td>NG</td>\n",
       "      <td>29.36</td>\n",
       "      <td>32.93</td>\n",
       "      <td>67</td>\n",
       "      <td>Broken Clouds</td>\n",
       "    </tr>\n",
       "    <tr>\n",
       "      <th>1</th>\n",
       "      <td>Tokyo</td>\n",
       "      <td>JP</td>\n",
       "      <td>18.37</td>\n",
       "      <td>18.66</td>\n",
       "      <td>92</td>\n",
       "      <td>Light Rain</td>\n",
       "    </tr>\n",
       "    <tr>\n",
       "      <th>2</th>\n",
       "      <td>New York</td>\n",
       "      <td>US</td>\n",
       "      <td>8.66</td>\n",
       "      <td>6.07</td>\n",
       "      <td>67</td>\n",
       "      <td>Clear Sky</td>\n",
       "    </tr>\n",
       "    <tr>\n",
       "      <th>3</th>\n",
       "      <td>London</td>\n",
       "      <td>GB</td>\n",
       "      <td>13.68</td>\n",
       "      <td>13.17</td>\n",
       "      <td>79</td>\n",
       "      <td>Overcast Clouds</td>\n",
       "    </tr>\n",
       "    <tr>\n",
       "      <th>4</th>\n",
       "      <td>Sydney</td>\n",
       "      <td>AU</td>\n",
       "      <td>21.54</td>\n",
       "      <td>21.63</td>\n",
       "      <td>72</td>\n",
       "      <td>Light Rain</td>\n",
       "    </tr>\n",
       "    <tr>\n",
       "      <th>5</th>\n",
       "      <td>Dubai</td>\n",
       "      <td>AE</td>\n",
       "      <td>34.96</td>\n",
       "      <td>37.44</td>\n",
       "      <td>41</td>\n",
       "      <td>Clear Sky</td>\n",
       "    </tr>\n",
       "  </tbody>\n",
       "</table>\n",
       "</div>"
      ],
      "text/plain": [
       "       City Country  Temperature (°C)  Feels Like (°C)  Humidity (%)  \\\n",
       "0     Lagos      NG             29.36            32.93            67   \n",
       "1     Tokyo      JP             18.37            18.66            92   \n",
       "2  New York      US              8.66             6.07            67   \n",
       "3    London      GB             13.68            13.17            79   \n",
       "4    Sydney      AU             21.54            21.63            72   \n",
       "5     Dubai      AE             34.96            37.44            41   \n",
       "\n",
       "       Description  \n",
       "0    Broken Clouds  \n",
       "1       Light Rain  \n",
       "2        Clear Sky  \n",
       "3  Overcast Clouds  \n",
       "4       Light Rain  \n",
       "5        Clear Sky  "
      ]
     },
     "metadata": {},
     "output_type": "display_data"
    }
   ],
   "source": [
    "# --- IMPORTANT: PASTE YOUR API KEY HERE ---\n",
    "API_KEY = \"*****************************\" \n",
    "\n",
    "# List of cities to fetch weather data for\n",
    "cities = [\"Lagos\", \"Tokyo\", \"New York\", \"London\", \"Sydney\", \"Dubai\"]\n",
    "\n",
    "weather_data = []\n",
    "for city in cities:\n",
    "    print(f\"Fetching weather for {city}...\")\n",
    "    data = get_weather(city, API_KEY)\n",
    "    if data:\n",
    "        weather_data.append(data)\n",
    "\n",
    "# Create a pandas DataFrame from the collected data\n",
    "df = pd.DataFrame(weather_data)\n",
    "\n",
    "# Display the DataFrame\n",
    "print(\"\\nCurrent Weather Conditions:\")\n",
    "display(df)"
   ]
  },
  {
   "cell_type": "code",
   "execution_count": 48,
   "id": "624a5284-6b83-4743-84b1-0a8c1767a6dc",
   "metadata": {},
   "outputs": [
    {
     "name": "stdout",
     "output_type": "stream",
     "text": [
      "\n",
      "Comparing Temperatures Across Cities:\n"
     ]
    },
    {
     "name": "stderr",
     "output_type": "stream",
     "text": [
      "C:\\Users\\New\\AppData\\Local\\Temp\\ipykernel_11708\\307114285.py:6: FutureWarning: \n",
      "\n",
      "Passing `palette` without assigning `hue` is deprecated and will be removed in v0.14.0. Assign the `x` variable to `hue` and set `legend=False` for the same effect.\n",
      "\n",
      "  sns.barplot(x='City', y='Temperature (°C)', data=df.sort_values('Temperature (°C)', ascending=False), palette='coolwarm')\n"
     ]
    },
    {
     "data": {
      "image/png": "[encoded data removed]",
      "text/plain": [
       "<Figure size 1200x700 with 1 Axes>"
      ]
     },
     "metadata": {},
     "output_type": "display_data"
    }
   ],
   "source": [
    "# Ensure the DataFrame is not empty before plotting\n",
    "if not df.empty:\n",
    "    print(\"\\nComparing Temperatures Across Cities:\")\n",
    "    \n",
    "    plt.figure(figsize=(12, 7))\n",
    "    sns.barplot(x='City', y='Temperature (°C)', data=df.sort_values('Temperature (°C)', ascending=False), palette='coolwarm')\n",
    "    \n",
    "    plt.title('Current Temperature Comparison', fontsize=16)\n",
    "    plt.xlabel('City', fontsize=12)\n",
    "    plt.ylabel('Temperature (°C)', fontsize=12)\n",
    "    plt.xticks(rotation=45)\n",
    "    plt.tight_layout()\n",
    "    plt.show()"
   ]
  },
  {
   "cell_type": "code",
   "execution_count": null,
   "id": "155ded62-8313-4cbb-9a49-702345e78061",
   "metadata": {},
   "outputs": [],
   "source": []
  }
 ],
 "metadata": {
  "kernelspec": {
   "display_name": "Python [conda env:base] *",
   "language": "python",
   "name": "conda-base-py"
  },
  "language_info": {
   "codemirror_mode": {
    "name": "ipython",
    "version": 3
   },
   "file_extension": ".py",
   "mimetype": "text/x-python",
   "name": "python",
   "nbconvert_exporter": "python",
   "pygments_lexer": "ipython3",
   "version": "3.12.7"
  }
 },
 "nbformat": 4,
 "nbformat_minor": 5
}
