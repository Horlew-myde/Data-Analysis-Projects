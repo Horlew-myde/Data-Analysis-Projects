{
 "cells": [
  {
   "cell_type": "code",
   "execution_count": 1,
   "id": "2bea14e0-5ef7-405f-aba6-4ca089ba03c9",
   "metadata": {},
   "outputs": [],
   "source": [
    "# Install the required libraries\n",
    "# !pip install requests pandas matplotlib seaborn\n",
    "\n",
    "# Import the libraries\n",
    "import requests\n",
    "import pandas as pd\n",
    "import matplotlib.pyplot as plt\n",
    "import seaborn as sns\n",
    "from datetime import datetime, timedelta\n",
    "import time"
   ]
  },
  {
   "cell_type": "code",
   "execution_count": 3,
   "id": "dce94d77-79e4-4fe7-a84f-0964c928364b",
   "metadata": {},
   "outputs": [],
   "source": [
    "def get_city_coords(city, api_key):\n",
    "    \"\"\"Gets the latitude and longitude for a city.\"\"\"\n",
    "    geo_url = \"http://api.openweathermap.org/geo/1.0/direct\"\n",
    "    params = {'q': city, 'limit': 1, 'appid': api_key}\n",
    "    try:\n",
    "        response = requests.get(geo_url, params=params)\n",
    "        response.raise_for_status()\n",
    "        data = response.json()\n",
    "        if data:\n",
    "            return data[0]['lat'], data[0]['lon']\n",
    "    except requests.exceptions.HTTPError as e:\n",
    "        print(f\"Error finding coordinates for {city}: {e}\")\n",
    "    return None, None\n",
    "\n",
    "def get_historical_weather(lat, lon, date_timestamp, api_key):\n",
    "    \"\"\"Fetches historical weather for a specific lat, lon, and timestamp.\"\"\"\n",
    "    hist_url = \"https://api.openweathermap.org/data/3.0/onecall/timemachine\"\n",
    "    params = {\n",
    "        'lat': lat,\n",
    "        'lon': lon,\n",
    "        'dt': date_timestamp,\n",
    "        'appid': api_key,\n",
    "        'units': 'metric'\n",
    "    }\n",
    "    try:\n",
    "        response = requests.get(hist_url, params=params)\n",
    "        response.raise_for_status()\n",
    "        data = response.json()\n",
    "        # Calculate the average temperature from the hourly data provided\n",
    "        hourly_data = data['data'][0]['hourly']\n",
    "        avg_temp = sum(hour['temp'] for hour in hourly_data) / len(hourly_data)\n",
    "        return avg_temp\n",
    "    except requests.exceptions.HTTPError as e:\n",
    "        if response.status_code == 401:\n",
    "            print(\"Error: Invalid API key.\")\n",
    "        else:\n",
    "            print(f\"HTTP error fetching historical data: {e}\")\n",
    "    except Exception as e:\n",
    "        print(f\"An error occurred: {e}\")\n",
    "    return None"
   ]
  },
  {
   "cell_type": "code",
   "execution_count": 9,
   "id": "e1f411f7-71df-4197-bf47-d8e612f87dca",
   "metadata": {},
   "outputs": [
    {
     "name": "stderr",
     "output_type": "stream",
     "text": [
      "C:\\Users\\New\\AppData\\Local\\Temp\\ipykernel_2584\\4284126487.py:11: DeprecationWarning: datetime.datetime.utcnow() is deprecated and scheduled for removal in a future version. Use timezone-aware objects to represent datetimes in UTC: datetime.datetime.now(datetime.UTC).\n",
      "  today = datetime.utcnow().date()\n"
     ]
    },
    {
     "name": "stdout",
     "output_type": "stream",
     "text": [
      "Fetching historical weather data for the last 5 days...\n",
      "Error finding coordinates for Lagos: 401 Client Error: Unauthorized for url: http://api.openweathermap.org/geo/1.0/direct?q=Lagos&limit=1&appid=6ba1814960c84a019709d249a1bb095d\n",
      "Error finding coordinates for Tokyo: 401 Client Error: Unauthorized for url: http://api.openweathermap.org/geo/1.0/direct?q=Tokyo&limit=1&appid=6ba1814960c84a019709d249a1bb095d\n",
      "Error finding coordinates for New York: 401 Client Error: Unauthorized for url: http://api.openweathermap.org/geo/1.0/direct?q=New+York&limit=1&appid=6ba1814960c84a019709d249a1bb095d\n",
      "Error finding coordinates for London: 401 Client Error: Unauthorized for url: http://api.openweathermap.org/geo/1.0/direct?q=London&limit=1&appid=6ba1814960c84a019709d249a1bb095d\n",
      "Error finding coordinates for Sydney: 401 Client Error: Unauthorized for url: http://api.openweathermap.org/geo/1.0/direct?q=Sydney&limit=1&appid=6ba1814960c84a019709d249a1bb095d\n",
      "Error finding coordinates for Dubai: 401 Client Error: Unauthorized for url: http://api.openweathermap.org/geo/1.0/direct?q=Dubai&limit=1&appid=6ba1814960c84a019709d249a1bb095d\n",
      "\n",
      "Historical Weather Data:\n"
     ]
    },
    {
     "data": {
      "text/html": [
       "<div>\n",
       "<style scoped>\n",
       "    .dataframe tbody tr th:only-of-type {\n",
       "        vertical-align: middle;\n",
       "    }\n",
       "\n",
       "    .dataframe tbody tr th {\n",
       "        vertical-align: top;\n",
       "    }\n",
       "\n",
       "    .dataframe thead th {\n",
       "        text-align: right;\n",
       "    }\n",
       "</style>\n",
       "<table border=\"1\" class=\"dataframe\">\n",
       "  <thead>\n",
       "    <tr style=\"text-align: right;\">\n",
       "      <th></th>\n",
       "    </tr>\n",
       "  </thead>\n",
       "  <tbody>\n",
       "  </tbody>\n",
       "</table>\n",
       "</div>"
      ],
      "text/plain": [
       "Empty DataFrame\n",
       "Columns: []\n",
       "Index: []"
      ]
     },
     "metadata": {},
     "output_type": "display_data"
    }
   ],
   "source": [
    "# --- IMPORTANT: PASTE YOUR API KEY HERE ---\n",
    "API_KEY = \"\" \n",
    "\n",
    "# List of cities\n",
    "cities = [\"Lagos\", \"Tokyo\", \"New York\", \"London\", \"Sydney\", \"Dubai\"]\n",
    "\n",
    "# List to store all our data\n",
    "all_weather_data = []\n",
    "\n",
    "# Get today's date\n",
    "today = datetime.utcnow().date()\n",
    "\n",
    "print(\"Fetching historical weather data for the last 5 days...\")\n",
    "\n",
    "for city in cities:\n",
    "    lat, lon = get_city_coords(city, API_KEY)\n",
    "    \n",
    "    if lat and lon:\n",
    "        print(f\"\\nProcessing {city}...\")\n",
    "        for i in range(1, 6): # Loop for the last 5 days\n",
    "            # Get the date for the past day\n",
    "            past_date = today - timedelta(days=i)\n",
    "            # Convert date to a Unix timestamp for the API\n",
    "            timestamp = int(datetime(past_date.year, past_date.month, past_date.day, 12).timestamp())\n",
    "            \n",
    "            # Fetch the average temperature for that day\n",
    "            avg_temp = get_historical_weather(lat, lon, timestamp, API_KEY)\n",
    "            \n",
    "            if avg_temp is not None:\n",
    "                all_weather_data.append({\n",
    "                    'City': city,\n",
    "                    'Date': past_date,\n",
    "                    'Avg Temperature (°C)': avg_temp\n",
    "                })\n",
    "            # Pause briefly to avoid hitting API rate limits\n",
    "            time.sleep(0.5)\n",
    "\n",
    "# Create a DataFrame\n",
    "df_hist = pd.DataFrame(all_weather_data)\n",
    "\n",
    "print(\"\\nHistorical Weather Data:\")\n",
    "display(df_hist)"
   ]
  },
  {
   "cell_type": "code",
   "execution_count": null,
   "id": "98d9d5dc-b61f-4a8e-bc03-ad45fce6b259",
   "metadata": {},
   "outputs": [],
   "source": [
    "# Ensure the DataFrame is not empty before plotting\n",
    "if not df_hist.empty:\n",
    "    print(\"\\nComparing Temperature Trends Over the Last 5 Days:\")\n",
    "    \n",
    "    plt.figure(figsize=(14, 8))\n",
    "    \n",
    "    # Use seaborn's lineplot to automatically plot each city's trend\n",
    "    sns.lineplot(data=df_hist, x='Date', y='Avg Temperature (°C)', hue='City', marker='o')\n",
    "    \n",
    "    plt.title('5-Day Temperature Trend Comparison', fontsize=16)\n",
    "    plt.xlabel('Date', fontsize=12)\n",
    "    plt.ylabel('Average Temperature (°C)', fontsize=12)\n",
    "    plt.grid(True)\n",
    "    plt.xticks(rotation=45)\n",
    "    plt.legend(title='City')\n",
    "    plt.tight_layout()\n",
    "    plt.show()"
   ]
  }
 ],
 "metadata": {
  "kernelspec": {
   "display_name": "Python [conda env:base] *",
   "language": "python",
   "name": "conda-base-py"
  },
  "language_info": {
   "codemirror_mode": {
    "name": "ipython",
    "version": 3
   },
   "file_extension": ".py",
   "mimetype": "text/x-python",
   "name": "python",
   "nbconvert_exporter": "python",
   "pygments_lexer": "ipython3",
   "version": "3.12.7"
  }
 },
 "nbformat": 4,
 "nbformat_minor": 5
}
